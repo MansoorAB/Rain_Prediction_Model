{
 "cells": [
  {
   "cell_type": "markdown",
   "id": "131f961a",
   "metadata": {},
   "source": [
    "https://www.analyticsvidhya.com/blog/2020/10/overcoming-class-imbalance-using-smote-techniques/"
   ]
  },
  {
   "cell_type": "markdown",
   "id": "15de9e85",
   "metadata": {},
   "source": [
    "### Lets load the saved data and build different models on top of it"
   ]
  },
  {
   "cell_type": "code",
   "execution_count": 1,
   "id": "4f50ce45",
   "metadata": {},
   "outputs": [
    {
     "data": {
      "text/plain": [
       "((9953, 22), (4266, 22))"
      ]
     },
     "execution_count": 1,
     "metadata": {},
     "output_type": "execute_result"
    }
   ],
   "source": [
    "import pandas as pd\n",
    "\n",
    "train = pd.read_csv('data_train_10pct.csv')\n",
    "test = pd.read_csv('data_test_10pct.csv')\n",
    "\n",
    "train.shape, test.shape"
   ]
  },
  {
   "cell_type": "code",
   "execution_count": 2,
   "id": "f17e3be8",
   "metadata": {},
   "outputs": [],
   "source": [
    "X_train, y_train = train.iloc[:,:-1], train.iloc[:,-1]\n",
    "X_test, y_test = test.iloc[:,:-1], test.iloc[:,-1]"
   ]
  },
  {
   "cell_type": "markdown",
   "id": "e8d0e814",
   "metadata": {},
   "source": [
    "### Selecting the top 6 independent features"
   ]
  },
  {
   "cell_type": "code",
   "execution_count": 3,
   "id": "478f1322",
   "metadata": {},
   "outputs": [
    {
     "data": {
      "text/html": [
       "<div>\n",
       "<style scoped>\n",
       "    .dataframe tbody tr th:only-of-type {\n",
       "        vertical-align: middle;\n",
       "    }\n",
       "\n",
       "    .dataframe tbody tr th {\n",
       "        vertical-align: top;\n",
       "    }\n",
       "\n",
       "    .dataframe thead th {\n",
       "        text-align: right;\n",
       "    }\n",
       "</style>\n",
       "<table border=\"1\" class=\"dataframe\">\n",
       "  <thead>\n",
       "    <tr style=\"text-align: right;\">\n",
       "      <th></th>\n",
       "      <th>features</th>\n",
       "      <th>score</th>\n",
       "    </tr>\n",
       "  </thead>\n",
       "  <tbody>\n",
       "    <tr>\n",
       "      <th>20</th>\n",
       "      <td>RainToday</td>\n",
       "      <td>805.663916</td>\n",
       "    </tr>\n",
       "    <tr>\n",
       "      <th>13</th>\n",
       "      <td>Humidity3pm</td>\n",
       "      <td>162.893978</td>\n",
       "    </tr>\n",
       "    <tr>\n",
       "      <th>3</th>\n",
       "      <td>Rainfall</td>\n",
       "      <td>129.578360</td>\n",
       "    </tr>\n",
       "    <tr>\n",
       "      <th>17</th>\n",
       "      <td>Cloud3pm</td>\n",
       "      <td>118.103330</td>\n",
       "    </tr>\n",
       "    <tr>\n",
       "      <th>6</th>\n",
       "      <td>WindGustDir</td>\n",
       "      <td>115.841934</td>\n",
       "    </tr>\n",
       "    <tr>\n",
       "      <th>16</th>\n",
       "      <td>Cloud9am</td>\n",
       "      <td>98.843881</td>\n",
       "    </tr>\n",
       "    <tr>\n",
       "      <th>5</th>\n",
       "      <td>Sunshine</td>\n",
       "      <td>90.259382</td>\n",
       "    </tr>\n",
       "    <tr>\n",
       "      <th>9</th>\n",
       "      <td>WindDir3pm</td>\n",
       "      <td>40.297294</td>\n",
       "    </tr>\n",
       "    <tr>\n",
       "      <th>12</th>\n",
       "      <td>Humidity9am</td>\n",
       "      <td>36.311617</td>\n",
       "    </tr>\n",
       "    <tr>\n",
       "      <th>7</th>\n",
       "      <td>WindGustSpeed</td>\n",
       "      <td>23.745149</td>\n",
       "    </tr>\n",
       "    <tr>\n",
       "      <th>19</th>\n",
       "      <td>Temp3pm</td>\n",
       "      <td>15.028042</td>\n",
       "    </tr>\n",
       "    <tr>\n",
       "      <th>8</th>\n",
       "      <td>WindDir9am</td>\n",
       "      <td>14.271588</td>\n",
       "    </tr>\n",
       "    <tr>\n",
       "      <th>14</th>\n",
       "      <td>Pressure9am</td>\n",
       "      <td>12.333328</td>\n",
       "    </tr>\n",
       "    <tr>\n",
       "      <th>2</th>\n",
       "      <td>MaxTemp</td>\n",
       "      <td>11.364297</td>\n",
       "    </tr>\n",
       "    <tr>\n",
       "      <th>15</th>\n",
       "      <td>Pressure3pm</td>\n",
       "      <td>10.141512</td>\n",
       "    </tr>\n",
       "    <tr>\n",
       "      <th>10</th>\n",
       "      <td>WindSpeed9am</td>\n",
       "      <td>5.061504</td>\n",
       "    </tr>\n",
       "    <tr>\n",
       "      <th>4</th>\n",
       "      <td>Evaporation</td>\n",
       "      <td>3.894695</td>\n",
       "    </tr>\n",
       "    <tr>\n",
       "      <th>1</th>\n",
       "      <td>MinTemp</td>\n",
       "      <td>3.464532</td>\n",
       "    </tr>\n",
       "    <tr>\n",
       "      <th>11</th>\n",
       "      <td>WindSpeed3pm</td>\n",
       "      <td>3.069943</td>\n",
       "    </tr>\n",
       "    <tr>\n",
       "      <th>0</th>\n",
       "      <td>Location</td>\n",
       "      <td>1.728254</td>\n",
       "    </tr>\n",
       "    <tr>\n",
       "      <th>18</th>\n",
       "      <td>Temp9am</td>\n",
       "      <td>0.383466</td>\n",
       "    </tr>\n",
       "  </tbody>\n",
       "</table>\n",
       "</div>"
      ],
      "text/plain": [
       "         features       score\n",
       "20      RainToday  805.663916\n",
       "13    Humidity3pm  162.893978\n",
       "3        Rainfall  129.578360\n",
       "17       Cloud3pm  118.103330\n",
       "6     WindGustDir  115.841934\n",
       "16       Cloud9am   98.843881\n",
       "5        Sunshine   90.259382\n",
       "9      WindDir3pm   40.297294\n",
       "12    Humidity9am   36.311617\n",
       "7   WindGustSpeed   23.745149\n",
       "19        Temp3pm   15.028042\n",
       "8      WindDir9am   14.271588\n",
       "14    Pressure9am   12.333328\n",
       "2         MaxTemp   11.364297\n",
       "15    Pressure3pm   10.141512\n",
       "10   WindSpeed9am    5.061504\n",
       "4     Evaporation    3.894695\n",
       "1         MinTemp    3.464532\n",
       "11   WindSpeed3pm    3.069943\n",
       "0        Location    1.728254\n",
       "18        Temp9am    0.383466"
      ]
     },
     "execution_count": 3,
     "metadata": {},
     "output_type": "execute_result"
    }
   ],
   "source": [
    "from sklearn.feature_selection import SelectKBest, chi2\n",
    "\n",
    "ordered_rank_features=SelectKBest(score_func=chi2, k=6)\n",
    "ordered_feature=ordered_rank_features.fit(X_train,y_train)\n",
    "\n",
    "dfscores=pd.DataFrame(ordered_feature.scores_)\n",
    "dfcolumns=pd.DataFrame(X_train.columns)\n",
    "features_rank = pd.DataFrame({\n",
    "                        'features' : X_train.columns,\n",
    "                        'score' : ordered_feature.scores_}).sort_values(by='score', ascending=False)\n",
    "\n",
    "\n",
    "features_rank"
   ]
  },
  {
   "cell_type": "code",
   "execution_count": 4,
   "id": "bb112f0c",
   "metadata": {},
   "outputs": [],
   "source": [
    "features = features_rank['features'][:6].values.tolist()\n",
    "features.append('RainTomorrow')"
   ]
  },
  {
   "cell_type": "code",
   "execution_count": 5,
   "id": "9982ca3f",
   "metadata": {},
   "outputs": [
    {
     "data": {
      "text/plain": [
       "['RainToday',\n",
       " 'Humidity3pm',\n",
       " 'Rainfall',\n",
       " 'Cloud3pm',\n",
       " 'WindGustDir',\n",
       " 'Cloud9am',\n",
       " 'RainTomorrow']"
      ]
     },
     "execution_count": 5,
     "metadata": {},
     "output_type": "execute_result"
    }
   ],
   "source": [
    "features"
   ]
  },
  {
   "cell_type": "code",
   "execution_count": 6,
   "id": "daee1840",
   "metadata": {},
   "outputs": [
    {
     "data": {
      "text/plain": [
       "((9953, 7), (4266, 7))"
      ]
     },
     "execution_count": 6,
     "metadata": {},
     "output_type": "execute_result"
    }
   ],
   "source": [
    "train = train[features]\n",
    "test = test[features]\n",
    "train.shape, test.shape"
   ]
  },
  {
   "cell_type": "markdown",
   "id": "2d776dee",
   "metadata": {},
   "source": [
    "### Defining a function for the conveniance to display various metrics"
   ]
  },
  {
   "cell_type": "code",
   "execution_count": 7,
   "id": "682cf742",
   "metadata": {},
   "outputs": [],
   "source": [
    "from sklearn.tree import DecisionTreeClassifier\n",
    "from sklearn.metrics import classification_report\n",
    "from sklearn.model_selection import GridSearchCV\n",
    "\n",
    "def build_model(sampler):\n",
    "    \n",
    "    X_train, y_train = train.iloc[:,:-1], train.iloc[:,-1]\n",
    "    X_test, y_test = test.iloc[:,:-1], test.iloc[:,-1]\n",
    "    \n",
    "    print('Pre Sampling Class Counts', y_train.value_counts(), '--' * 30, sep='\\n')\n",
    "    \n",
    "    dt = DecisionTreeClassifier(random_state=10)\n",
    "    \n",
    "    if sampler==None:\n",
    "        pass\n",
    "    else:\n",
    "        X_train, y_train = sampler.fit_resample(X_train, y_train)\n",
    "        \n",
    "    dt.fit(X_train, y_train)\n",
    "    \n",
    "    print('Post Sampling Class Counts', y_train.value_counts(), '--' * 30, sep='\\n')\n",
    "    \n",
    "    y_pred = dt.predict(X_test)\n",
    "    print('Pre Optimization Metrics', classification_report(y_test, y_pred), '--' * 60, sep='\\n')\n",
    "    \n",
    "    grid_param = {\n",
    "                'criterion': ['gini', 'entropy'],\n",
    "                'max_depth' : range(3, 22, 3),\n",
    "                'min_samples_leaf' : range(80, 121, 10),\n",
    "                'min_samples_split': range(100, 301, 50),\n",
    "                'splitter' : ['best', 'random']\n",
    "                }                \n",
    "    \n",
    "    dt = DecisionTreeClassifier(random_state=10)\n",
    "    grid_search = GridSearchCV(estimator=dt, param_grid=grid_param, scoring='recall', cv=5, n_jobs=-1, verbose=1)\n",
    "    grid_search.fit(X_train, y_train)\n",
    "    print(grid_search.best_params_, '--' * 58, sep='\\n')\n",
    "    \n",
    "    dt_optimized = grid_search.best_estimator_\n",
    "    dt_optimized.fit(X_train, y_train)\n",
    "    y_pred = dt_optimized.predict(X_test)\n",
    "    print('Post Optimization Metrics', classification_report(y_test, y_pred), '--' * 60, sep='\\n')   \n"
   ]
  },
  {
   "cell_type": "markdown",
   "id": "0bbcba5e",
   "metadata": {},
   "source": [
    "## Building the decision tree model for best recall, pre and post balancing the data."
   ]
  },
  {
   "cell_type": "code",
   "execution_count": 8,
   "id": "ee52fa82",
   "metadata": {},
   "outputs": [
    {
     "name": "stdout",
     "output_type": "stream",
     "text": [
      "Pre Sampling Class Counts\n",
      "0    7668\n",
      "1    2285\n",
      "Name: RainTomorrow, dtype: int64\n",
      "------------------------------------------------------------\n",
      "Post Sampling Class Counts\n",
      "0    7668\n",
      "1    2285\n",
      "Name: RainTomorrow, dtype: int64\n",
      "------------------------------------------------------------\n",
      "Pre Optimization Metrics\n",
      "              precision    recall  f1-score   support\n",
      "\n",
      "           0       0.84      0.83      0.84      3298\n",
      "           1       0.44      0.46      0.45       968\n",
      "\n",
      "    accuracy                           0.75      4266\n",
      "   macro avg       0.64      0.65      0.64      4266\n",
      "weighted avg       0.75      0.75      0.75      4266\n",
      "\n",
      "------------------------------------------------------------------------------------------------------------------------\n",
      "Fitting 5 folds for each of 700 candidates, totalling 3500 fits\n",
      "{'criterion': 'entropy', 'max_depth': 12, 'min_samples_leaf': 100, 'min_samples_split': 300, 'splitter': 'random'}\n",
      "--------------------------------------------------------------------------------------------------------------------\n",
      "Post Optimization Metrics\n",
      "              precision    recall  f1-score   support\n",
      "\n",
      "           0       0.84      0.96      0.89      3298\n",
      "           1       0.74      0.36      0.48       968\n",
      "\n",
      "    accuracy                           0.82      4266\n",
      "   macro avg       0.79      0.66      0.69      4266\n",
      "weighted avg       0.81      0.82      0.80      4266\n",
      "\n",
      "------------------------------------------------------------------------------------------------------------------------\n"
     ]
    }
   ],
   "source": [
    "build_model(None)"
   ]
  },
  {
   "cell_type": "code",
   "execution_count": 9,
   "id": "2fc8cdfc",
   "metadata": {},
   "outputs": [
    {
     "name": "stdout",
     "output_type": "stream",
     "text": [
      "Pre Sampling Class Counts\n",
      "0    7668\n",
      "1    2285\n",
      "Name: RainTomorrow, dtype: int64\n",
      "------------------------------------------------------------\n",
      "Post Sampling Class Counts\n",
      "0    7668\n",
      "1    7668\n",
      "Name: RainTomorrow, dtype: int64\n",
      "------------------------------------------------------------\n",
      "Pre Optimization Metrics\n",
      "              precision    recall  f1-score   support\n",
      "\n",
      "           0       0.84      0.79      0.82      3298\n",
      "           1       0.42      0.50      0.46       968\n",
      "\n",
      "    accuracy                           0.73      4266\n",
      "   macro avg       0.63      0.65      0.64      4266\n",
      "weighted avg       0.75      0.73      0.74      4266\n",
      "\n",
      "------------------------------------------------------------------------------------------------------------------------\n",
      "Fitting 5 folds for each of 700 candidates, totalling 3500 fits\n",
      "{'criterion': 'entropy', 'max_depth': 9, 'min_samples_leaf': 80, 'min_samples_split': 100, 'splitter': 'best'}\n",
      "--------------------------------------------------------------------------------------------------------------------\n",
      "Post Optimization Metrics\n",
      "              precision    recall  f1-score   support\n",
      "\n",
      "           0       0.89      0.78      0.83      3298\n",
      "           1       0.48      0.68      0.56       968\n",
      "\n",
      "    accuracy                           0.76      4266\n",
      "   macro avg       0.68      0.73      0.70      4266\n",
      "weighted avg       0.80      0.76      0.77      4266\n",
      "\n",
      "------------------------------------------------------------------------------------------------------------------------\n"
     ]
    }
   ],
   "source": [
    "from imblearn.over_sampling import SMOTE\n",
    "\n",
    "build_model(SMOTE(random_state=10))"
   ]
  },
  {
   "cell_type": "code",
   "execution_count": 10,
   "id": "d4d36d0a",
   "metadata": {
    "scrolled": true
   },
   "outputs": [
    {
     "name": "stdout",
     "output_type": "stream",
     "text": [
      "Pre Sampling Class Counts\n",
      "0    7668\n",
      "1    2285\n",
      "Name: RainTomorrow, dtype: int64\n",
      "------------------------------------------------------------\n",
      "Post Sampling Class Counts\n",
      "1    5254\n",
      "0    4513\n",
      "Name: RainTomorrow, dtype: int64\n",
      "------------------------------------------------------------\n",
      "Pre Optimization Metrics\n",
      "              precision    recall  f1-score   support\n",
      "\n",
      "           0       0.89      0.76      0.82      3298\n",
      "           1       0.45      0.67      0.54       968\n",
      "\n",
      "    accuracy                           0.74      4266\n",
      "   macro avg       0.67      0.71      0.68      4266\n",
      "weighted avg       0.79      0.74      0.75      4266\n",
      "\n",
      "------------------------------------------------------------------------------------------------------------------------\n",
      "Fitting 5 folds for each of 700 candidates, totalling 3500 fits\n",
      "{'criterion': 'gini', 'max_depth': 6, 'min_samples_leaf': 120, 'min_samples_split': 100, 'splitter': 'random'}\n",
      "--------------------------------------------------------------------------------------------------------------------\n",
      "Post Optimization Metrics\n",
      "              precision    recall  f1-score   support\n",
      "\n",
      "           0       0.91      0.66      0.77      3298\n",
      "           1       0.40      0.77      0.53       968\n",
      "\n",
      "    accuracy                           0.69      4266\n",
      "   macro avg       0.65      0.72      0.65      4266\n",
      "weighted avg       0.79      0.69      0.71      4266\n",
      "\n",
      "------------------------------------------------------------------------------------------------------------------------\n"
     ]
    }
   ],
   "source": [
    "from imblearn.combine import SMOTEENN\n",
    "\n",
    "build_model(SMOTEENN(random_state=10))"
   ]
  },
  {
   "cell_type": "code",
   "execution_count": 11,
   "id": "a98c0c32",
   "metadata": {
    "scrolled": true
   },
   "outputs": [
    {
     "name": "stdout",
     "output_type": "stream",
     "text": [
      "Pre Sampling Class Counts\n",
      "0    7668\n",
      "1    2285\n",
      "Name: RainTomorrow, dtype: int64\n",
      "------------------------------------------------------------\n",
      "Post Sampling Class Counts\n",
      "0    2285\n",
      "1    2285\n",
      "Name: RainTomorrow, dtype: int64\n",
      "------------------------------------------------------------\n",
      "Pre Optimization Metrics\n",
      "              precision    recall  f1-score   support\n",
      "\n",
      "           0       0.82      0.47      0.60      3298\n",
      "           1       0.27      0.65      0.38       968\n",
      "\n",
      "    accuracy                           0.52      4266\n",
      "   macro avg       0.55      0.56      0.49      4266\n",
      "weighted avg       0.70      0.52      0.55      4266\n",
      "\n",
      "------------------------------------------------------------------------------------------------------------------------\n",
      "Fitting 5 folds for each of 700 candidates, totalling 3500 fits\n",
      "{'criterion': 'entropy', 'max_depth': 9, 'min_samples_leaf': 80, 'min_samples_split': 100, 'splitter': 'best'}\n",
      "--------------------------------------------------------------------------------------------------------------------\n",
      "Post Optimization Metrics\n",
      "              precision    recall  f1-score   support\n",
      "\n",
      "           0       0.87      0.71      0.78      3298\n",
      "           1       0.39      0.65      0.49       968\n",
      "\n",
      "    accuracy                           0.69      4266\n",
      "   macro avg       0.63      0.68      0.64      4266\n",
      "weighted avg       0.76      0.69      0.72      4266\n",
      "\n",
      "------------------------------------------------------------------------------------------------------------------------\n"
     ]
    }
   ],
   "source": [
    "from imblearn.under_sampling import NearMiss\n",
    "\n",
    "build_model(NearMiss())"
   ]
  },
  {
   "cell_type": "markdown",
   "id": "a628bf52",
   "metadata": {},
   "source": [
    "### The best sampling seems to be Undersampling with SMOTEENN as the recall has increased from 0.67 to 0.77"
   ]
  },
  {
   "cell_type": "code",
   "execution_count": null,
   "id": "0ffe255a",
   "metadata": {},
   "outputs": [],
   "source": []
  }
 ],
 "metadata": {
  "kernelspec": {
   "display_name": "Python 3 (ipykernel)",
   "language": "python",
   "name": "python3"
  },
  "language_info": {
   "codemirror_mode": {
    "name": "ipython",
    "version": 3
   },
   "file_extension": ".py",
   "mimetype": "text/x-python",
   "name": "python",
   "nbconvert_exporter": "python",
   "pygments_lexer": "ipython3",
   "version": "3.8.11"
  }
 },
 "nbformat": 4,
 "nbformat_minor": 5
}
