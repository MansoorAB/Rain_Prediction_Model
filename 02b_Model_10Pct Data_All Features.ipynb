{
 "cells": [
  {
   "cell_type": "markdown",
   "id": "131f961a",
   "metadata": {},
   "source": [
    "https://www.analyticsvidhya.com/blog/2020/10/overcoming-class-imbalance-using-smote-techniques/"
   ]
  },
  {
   "cell_type": "markdown",
   "id": "9523b55a",
   "metadata": {},
   "source": [
    "### Lets load the saved data and build different models on top of it"
   ]
  },
  {
   "cell_type": "code",
   "execution_count": 1,
   "id": "4f50ce45",
   "metadata": {},
   "outputs": [
    {
     "data": {
      "text/plain": [
       "((9953, 22), (4266, 22))"
      ]
     },
     "execution_count": 1,
     "metadata": {},
     "output_type": "execute_result"
    }
   ],
   "source": [
    "import pandas as pd\n",
    "\n",
    "train = pd.read_csv('data_train_10pct.csv')\n",
    "test = pd.read_csv('data_test_10pct.csv')\n",
    "\n",
    "train.shape, test.shape"
   ]
  },
  {
   "cell_type": "markdown",
   "id": "25ddd7e9",
   "metadata": {},
   "source": [
    "### Defining a function for the conveniance to display various metrics"
   ]
  },
  {
   "cell_type": "code",
   "execution_count": 43,
   "id": "682cf742",
   "metadata": {},
   "outputs": [],
   "source": [
    "from sklearn.tree import DecisionTreeClassifier\n",
    "from sklearn.metrics import classification_report\n",
    "from sklearn.model_selection import GridSearchCV\n",
    "\n",
    "def build_model(sampler):\n",
    "    \n",
    "    X_train, y_train = train.iloc[:,:-1], train.iloc[:,-1]\n",
    "    X_test, y_test = test.iloc[:,:-1], test.iloc[:,-1]\n",
    "    \n",
    "    print('Pre Sampling Class Counts', y_train.value_counts(), '--' * 30, sep='\\n')\n",
    "    \n",
    "    dt = DecisionTreeClassifier(random_state=10)\n",
    "    \n",
    "    if sampler==None:\n",
    "        pass\n",
    "    else:\n",
    "        X_train, y_train = sampler.fit_resample(X_train, y_train)\n",
    "        \n",
    "    dt.fit(X_train, y_train)\n",
    "    \n",
    "    print('Post Sampling Class Counts', y_train.value_counts(), '--' * 30, sep='\\n')\n",
    "    \n",
    "    y_pred = dt.predict(X_test)\n",
    "    print('Pre Optimization Metrics', classification_report(y_test, y_pred), '--' * 60, sep='\\n')\n",
    "    \n",
    "    grid_param = {\n",
    "                'criterion': ['gini', 'entropy'],\n",
    "                'max_depth' : range(3, 22, 3),\n",
    "                'min_samples_leaf' : range(80, 121, 10),\n",
    "                'min_samples_split': range(100, 301, 50),\n",
    "                'splitter' : ['best', 'random']\n",
    "                }                \n",
    "    \n",
    "    dt = DecisionTreeClassifier(random_state=10)\n",
    "    grid_search = GridSearchCV(estimator=dt, param_grid=grid_param, scoring='recall', cv=5, n_jobs=-1, verbose=1)\n",
    "    grid_search.fit(X_train, y_train)\n",
    "    print(grid_search.best_params_, '--' * 58, sep='\\n')\n",
    "    \n",
    "    dt_optimized = grid_search.best_estimator_\n",
    "    dt_optimized.fit(X_train, y_train)\n",
    "    y_pred = dt_optimized.predict(X_test)\n",
    "    print('Post Optimization Metrics', classification_report(y_test, y_pred), '--' * 60, sep='\\n')   \n"
   ]
  },
  {
   "cell_type": "markdown",
   "id": "790e248b",
   "metadata": {},
   "source": [
    "## Building the decision tree model for best recall, pre and post balancing the data."
   ]
  },
  {
   "cell_type": "code",
   "execution_count": 41,
   "id": "c2b00888",
   "metadata": {},
   "outputs": [
    {
     "name": "stdout",
     "output_type": "stream",
     "text": [
      "Pre Sampling Class Counts\n",
      "0    7668\n",
      "1    2285\n",
      "Name: RainTomorrow, dtype: int64\n",
      "------------------------------------------------------------\n",
      "Post Sampling Class Counts\n",
      "0    7668\n",
      "1    2285\n",
      "Name: RainTomorrow, dtype: int64\n",
      "------------------------------------------------------------\n",
      "Pre Optimization Metrics\n",
      "              precision    recall  f1-score   support\n",
      "\n",
      "           0       0.86      0.84      0.85      3298\n",
      "           1       0.48      0.52      0.50       968\n",
      "\n",
      "    accuracy                           0.76      4266\n",
      "   macro avg       0.67      0.68      0.67      4266\n",
      "weighted avg       0.77      0.76      0.77      4266\n",
      "\n",
      "------------------------------------------------------------------------------------------------------------------------\n",
      "Fitting 5 folds for each of 700 candidates, totalling 3500 fits\n",
      "{'criterion': 'entropy', 'max_depth': 9, 'min_samples_leaf': 80, 'min_samples_split': 100, 'splitter': 'best'}\n",
      "----------------------------------------------------------------------------------------------------\n",
      "Post Optimization Metrics\n",
      "              precision    recall  f1-score   support\n",
      "\n",
      "           0       0.86      0.93      0.89      3298\n",
      "           1       0.66      0.49      0.56       968\n",
      "\n",
      "    accuracy                           0.83      4266\n",
      "   macro avg       0.76      0.71      0.73      4266\n",
      "weighted avg       0.81      0.83      0.82      4266\n",
      "\n",
      "------------------------------------------------------------------------------------------------------------------------\n"
     ]
    }
   ],
   "source": [
    "build_model(None)"
   ]
  },
  {
   "cell_type": "code",
   "execution_count": 42,
   "id": "2fc8cdfc",
   "metadata": {},
   "outputs": [
    {
     "name": "stdout",
     "output_type": "stream",
     "text": [
      "Pre Sampling Class Counts\n",
      "0    7668\n",
      "1    2285\n",
      "Name: RainTomorrow, dtype: int64\n",
      "------------------------------------------------------------\n",
      "Post Sampling Class Counts\n",
      "0    7668\n",
      "1    7668\n",
      "Name: RainTomorrow, dtype: int64\n",
      "------------------------------------------------------------\n",
      "Pre Optimization Metrics\n",
      "              precision    recall  f1-score   support\n",
      "\n",
      "           0       0.87      0.80      0.83      3298\n",
      "           1       0.46      0.59      0.52       968\n",
      "\n",
      "    accuracy                           0.75      4266\n",
      "   macro avg       0.67      0.69      0.68      4266\n",
      "weighted avg       0.78      0.75      0.76      4266\n",
      "\n",
      "------------------------------------------------------------------------------------------------------------------------\n",
      "Fitting 5 folds for each of 700 candidates, totalling 3500 fits\n",
      "{'criterion': 'entropy', 'max_depth': 12, 'min_samples_leaf': 80, 'min_samples_split': 100, 'splitter': 'best'}\n",
      "----------------------------------------------------------------------------------------------------\n",
      "Post Optimization Metrics\n",
      "              precision    recall  f1-score   support\n",
      "\n",
      "           0       0.88      0.81      0.85      3298\n",
      "           1       0.50      0.64      0.56       968\n",
      "\n",
      "    accuracy                           0.77      4266\n",
      "   macro avg       0.69      0.72      0.70      4266\n",
      "weighted avg       0.80      0.77      0.78      4266\n",
      "\n",
      "------------------------------------------------------------------------------------------------------------------------\n"
     ]
    }
   ],
   "source": [
    "from imblearn.over_sampling import SMOTE\n",
    "\n",
    "build_model(SMOTE(random_state=10))"
   ]
  },
  {
   "cell_type": "code",
   "execution_count": 44,
   "id": "0d9b9f91",
   "metadata": {
    "scrolled": true
   },
   "outputs": [
    {
     "name": "stdout",
     "output_type": "stream",
     "text": [
      "Pre Sampling Class Counts\n",
      "0    7668\n",
      "1    2285\n",
      "Name: RainTomorrow, dtype: int64\n",
      "------------------------------------------------------------\n",
      "Post Sampling Class Counts\n",
      "1    5722\n",
      "0    3965\n",
      "Name: RainTomorrow, dtype: int64\n",
      "------------------------------------------------------------\n",
      "Pre Optimization Metrics\n",
      "              precision    recall  f1-score   support\n",
      "\n",
      "           0       0.87      0.76      0.81      3298\n",
      "           1       0.43      0.63      0.51       968\n",
      "\n",
      "    accuracy                           0.73      4266\n",
      "   macro avg       0.65      0.69      0.66      4266\n",
      "weighted avg       0.77      0.73      0.75      4266\n",
      "\n",
      "------------------------------------------------------------------------------------------------------------------------\n",
      "Fitting 5 folds for each of 700 candidates, totalling 3500 fits\n",
      "{'criterion': 'gini', 'max_depth': 3, 'min_samples_leaf': 80, 'min_samples_split': 100, 'splitter': 'random'}\n",
      "--------------------------------------------------------------------------------------------------------------------\n",
      "Post Optimization Metrics\n",
      "              precision    recall  f1-score   support\n",
      "\n",
      "           0       0.92      0.54      0.68      3298\n",
      "           1       0.35      0.84      0.50       968\n",
      "\n",
      "    accuracy                           0.61      4266\n",
      "   macro avg       0.64      0.69      0.59      4266\n",
      "weighted avg       0.79      0.61      0.64      4266\n",
      "\n",
      "------------------------------------------------------------------------------------------------------------------------\n"
     ]
    }
   ],
   "source": [
    "from imblearn.combine import SMOTEENN\n",
    "\n",
    "build_model(SMOTEENN(random_state=10))"
   ]
  },
  {
   "cell_type": "code",
   "execution_count": 46,
   "id": "c607062e",
   "metadata": {
    "scrolled": true
   },
   "outputs": [
    {
     "name": "stdout",
     "output_type": "stream",
     "text": [
      "Pre Sampling Class Counts\n",
      "0    7668\n",
      "1    2285\n",
      "Name: RainTomorrow, dtype: int64\n",
      "------------------------------------------------------------\n",
      "Post Sampling Class Counts\n",
      "0    2285\n",
      "1    2285\n",
      "Name: RainTomorrow, dtype: int64\n",
      "------------------------------------------------------------\n",
      "Pre Optimization Metrics\n",
      "              precision    recall  f1-score   support\n",
      "\n",
      "           0       0.87      0.66      0.75      3298\n",
      "           1       0.37      0.67      0.47       968\n",
      "\n",
      "    accuracy                           0.66      4266\n",
      "   macro avg       0.62      0.67      0.61      4266\n",
      "weighted avg       0.76      0.66      0.69      4266\n",
      "\n",
      "------------------------------------------------------------------------------------------------------------------------\n",
      "Fitting 5 folds for each of 700 candidates, totalling 3500 fits\n",
      "{'criterion': 'entropy', 'max_depth': 3, 'min_samples_leaf': 80, 'min_samples_split': 100, 'splitter': 'best'}\n",
      "--------------------------------------------------------------------------------------------------------------------\n",
      "Post Optimization Metrics\n",
      "              precision    recall  f1-score   support\n",
      "\n",
      "           0       0.90      0.69      0.78      3298\n",
      "           1       0.41      0.75      0.53       968\n",
      "\n",
      "    accuracy                           0.70      4266\n",
      "   macro avg       0.66      0.72      0.66      4266\n",
      "weighted avg       0.79      0.70      0.72      4266\n",
      "\n",
      "------------------------------------------------------------------------------------------------------------------------\n"
     ]
    }
   ],
   "source": [
    "from imblearn.under_sampling import NearMiss\n",
    "\n",
    "build_model(NearMiss())"
   ]
  },
  {
   "cell_type": "markdown",
   "id": "5f43d5e7",
   "metadata": {},
   "source": [
    "### The best sampling seems to be Undersampling with SMOTEENN as the recall has increased from 0.63 to 0.84"
   ]
  },
  {
   "cell_type": "code",
   "execution_count": null,
   "id": "f834fb58",
   "metadata": {},
   "outputs": [],
   "source": []
  }
 ],
 "metadata": {
  "kernelspec": {
   "display_name": "Python 3 (ipykernel)",
   "language": "python",
   "name": "python3"
  },
  "language_info": {
   "codemirror_mode": {
    "name": "ipython",
    "version": 3
   },
   "file_extension": ".py",
   "mimetype": "text/x-python",
   "name": "python",
   "nbconvert_exporter": "python",
   "pygments_lexer": "ipython3",
   "version": "3.8.11"
  }
 },
 "nbformat": 4,
 "nbformat_minor": 5
}
