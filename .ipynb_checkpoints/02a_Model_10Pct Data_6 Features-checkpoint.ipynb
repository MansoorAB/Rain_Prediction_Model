{
 "cells": [
  {
   "cell_type": "markdown",
   "id": "131f961a",
   "metadata": {},
   "source": [
    "https://www.analyticsvidhya.com/blog/2020/10/overcoming-class-imbalance-using-smote-techniques/"
   ]
  },
  {
   "cell_type": "markdown",
   "id": "15de9e85",
   "metadata": {},
   "source": [
    "### Lets load the saved data and build different models on top of it"
   ]
  },
  {
   "cell_type": "code",
   "execution_count": 1,
   "id": "4f50ce45",
   "metadata": {},
   "outputs": [
    {
     "data": {
      "text/plain": [
       "((9953, 22), (4266, 22))"
      ]
     },
     "execution_count": 1,
     "metadata": {},
     "output_type": "execute_result"
    }
   ],
   "source": [
    "import pandas as pd\n",
    "\n",
    "train = pd.read_csv('data_train_10pct.csv')\n",
    "test = pd.read_csv('data_test_10pct.csv')\n",
    "\n",
    "train.shape, test.shape"
   ]
  },
  {
   "cell_type": "code",
   "execution_count": 2,
   "id": "f17e3be8",
   "metadata": {},
   "outputs": [],
   "source": [
    "X_train, y_train = train.iloc[:,:-1], train.iloc[:,-1]\n",
    "X_test, y_test = test.iloc[:,:-1], test.iloc[:,-1]"
   ]
  },
  {
   "cell_type": "markdown",
   "id": "e8d0e814",
   "metadata": {},
   "source": [
    "### Selecting the top 6 independent features"
   ]
  },
  {
   "cell_type": "code",
   "execution_count": 3,
   "id": "478f1322",
   "metadata": {},
   "outputs": [
    {
     "data": {
      "text/html": [
       "<div>\n",
       "<style scoped>\n",
       "    .dataframe tbody tr th:only-of-type {\n",
       "        vertical-align: middle;\n",
       "    }\n",
       "\n",
       "    .dataframe tbody tr th {\n",
       "        vertical-align: top;\n",
       "    }\n",
       "\n",
       "    .dataframe thead th {\n",
       "        text-align: right;\n",
       "    }\n",
       "</style>\n",
       "<table border=\"1\" class=\"dataframe\">\n",
       "  <thead>\n",
       "    <tr style=\"text-align: right;\">\n",
       "      <th></th>\n",
       "      <th>features</th>\n",
       "      <th>score</th>\n",
       "    </tr>\n",
       "  </thead>\n",
       "  <tbody>\n",
       "    <tr>\n",
       "      <th>20</th>\n",
       "      <td>RainToday</td>\n",
       "      <td>737.988433</td>\n",
       "    </tr>\n",
       "    <tr>\n",
       "      <th>13</th>\n",
       "      <td>Humidity3pm</td>\n",
       "      <td>165.709871</td>\n",
       "    </tr>\n",
       "    <tr>\n",
       "      <th>17</th>\n",
       "      <td>Cloud3pm</td>\n",
       "      <td>121.123720</td>\n",
       "    </tr>\n",
       "    <tr>\n",
       "      <th>16</th>\n",
       "      <td>Cloud9am</td>\n",
       "      <td>109.212947</td>\n",
       "    </tr>\n",
       "    <tr>\n",
       "      <th>5</th>\n",
       "      <td>Sunshine</td>\n",
       "      <td>85.899658</td>\n",
       "    </tr>\n",
       "    <tr>\n",
       "      <th>6</th>\n",
       "      <td>WindGustDir</td>\n",
       "      <td>83.722730</td>\n",
       "    </tr>\n",
       "    <tr>\n",
       "      <th>3</th>\n",
       "      <td>Rainfall</td>\n",
       "      <td>69.280665</td>\n",
       "    </tr>\n",
       "    <tr>\n",
       "      <th>9</th>\n",
       "      <td>WindDir3pm</td>\n",
       "      <td>51.208016</td>\n",
       "    </tr>\n",
       "    <tr>\n",
       "      <th>12</th>\n",
       "      <td>Humidity9am</td>\n",
       "      <td>37.998513</td>\n",
       "    </tr>\n",
       "    <tr>\n",
       "      <th>7</th>\n",
       "      <td>WindGustSpeed</td>\n",
       "      <td>27.320968</td>\n",
       "    </tr>\n",
       "    <tr>\n",
       "      <th>0</th>\n",
       "      <td>Location</td>\n",
       "      <td>17.757096</td>\n",
       "    </tr>\n",
       "    <tr>\n",
       "      <th>14</th>\n",
       "      <td>Pressure9am</td>\n",
       "      <td>17.580006</td>\n",
       "    </tr>\n",
       "    <tr>\n",
       "      <th>19</th>\n",
       "      <td>Temp3pm</td>\n",
       "      <td>14.295250</td>\n",
       "    </tr>\n",
       "    <tr>\n",
       "      <th>15</th>\n",
       "      <td>Pressure3pm</td>\n",
       "      <td>13.321232</td>\n",
       "    </tr>\n",
       "    <tr>\n",
       "      <th>8</th>\n",
       "      <td>WindDir9am</td>\n",
       "      <td>13.284997</td>\n",
       "    </tr>\n",
       "    <tr>\n",
       "      <th>2</th>\n",
       "      <td>MaxTemp</td>\n",
       "      <td>9.937696</td>\n",
       "    </tr>\n",
       "    <tr>\n",
       "      <th>10</th>\n",
       "      <td>WindSpeed9am</td>\n",
       "      <td>8.423135</td>\n",
       "    </tr>\n",
       "    <tr>\n",
       "      <th>11</th>\n",
       "      <td>WindSpeed3pm</td>\n",
       "      <td>6.485806</td>\n",
       "    </tr>\n",
       "    <tr>\n",
       "      <th>4</th>\n",
       "      <td>Evaporation</td>\n",
       "      <td>3.407900</td>\n",
       "    </tr>\n",
       "    <tr>\n",
       "      <th>1</th>\n",
       "      <td>MinTemp</td>\n",
       "      <td>3.210934</td>\n",
       "    </tr>\n",
       "    <tr>\n",
       "      <th>18</th>\n",
       "      <td>Temp9am</td>\n",
       "      <td>0.708845</td>\n",
       "    </tr>\n",
       "  </tbody>\n",
       "</table>\n",
       "</div>"
      ],
      "text/plain": [
       "         features       score\n",
       "20      RainToday  737.988433\n",
       "13    Humidity3pm  165.709871\n",
       "17       Cloud3pm  121.123720\n",
       "16       Cloud9am  109.212947\n",
       "5        Sunshine   85.899658\n",
       "6     WindGustDir   83.722730\n",
       "3        Rainfall   69.280665\n",
       "9      WindDir3pm   51.208016\n",
       "12    Humidity9am   37.998513\n",
       "7   WindGustSpeed   27.320968\n",
       "0        Location   17.757096\n",
       "14    Pressure9am   17.580006\n",
       "19        Temp3pm   14.295250\n",
       "15    Pressure3pm   13.321232\n",
       "8      WindDir9am   13.284997\n",
       "2         MaxTemp    9.937696\n",
       "10   WindSpeed9am    8.423135\n",
       "11   WindSpeed3pm    6.485806\n",
       "4     Evaporation    3.407900\n",
       "1         MinTemp    3.210934\n",
       "18        Temp9am    0.708845"
      ]
     },
     "execution_count": 3,
     "metadata": {},
     "output_type": "execute_result"
    }
   ],
   "source": [
    "from sklearn.feature_selection import SelectKBest, chi2\n",
    "\n",
    "ordered_rank_features=SelectKBest(score_func=chi2, k=6)\n",
    "ordered_feature=ordered_rank_features.fit(X_train,y_train)\n",
    "\n",
    "dfscores=pd.DataFrame(ordered_feature.scores_)\n",
    "dfcolumns=pd.DataFrame(X_train.columns)\n",
    "features_rank = pd.DataFrame({\n",
    "                        'features' : X_train.columns,\n",
    "                        'score' : ordered_feature.scores_}).sort_values(by='score', ascending=False)\n",
    "\n",
    "\n",
    "features_rank"
   ]
  },
  {
   "cell_type": "code",
   "execution_count": 4,
   "id": "bb112f0c",
   "metadata": {},
   "outputs": [],
   "source": [
    "features = features_rank['features'][:6].values.tolist()\n",
    "features.append('RainTomorrow')"
   ]
  },
  {
   "cell_type": "code",
   "execution_count": 5,
   "id": "9982ca3f",
   "metadata": {},
   "outputs": [
    {
     "data": {
      "text/plain": [
       "['RainToday',\n",
       " 'Humidity3pm',\n",
       " 'Cloud3pm',\n",
       " 'Cloud9am',\n",
       " 'Sunshine',\n",
       " 'WindGustDir',\n",
       " 'RainTomorrow']"
      ]
     },
     "execution_count": 5,
     "metadata": {},
     "output_type": "execute_result"
    }
   ],
   "source": [
    "features"
   ]
  },
  {
   "cell_type": "code",
   "execution_count": 6,
   "id": "daee1840",
   "metadata": {},
   "outputs": [
    {
     "data": {
      "text/plain": [
       "((9953, 7), (4266, 7))"
      ]
     },
     "execution_count": 6,
     "metadata": {},
     "output_type": "execute_result"
    }
   ],
   "source": [
    "train = train[features]\n",
    "test = test[features]\n",
    "train.shape, test.shape"
   ]
  },
  {
   "cell_type": "markdown",
   "id": "2d776dee",
   "metadata": {},
   "source": [
    "### Defining a function for the conveniance to display various metrics"
   ]
  },
  {
   "cell_type": "code",
   "execution_count": 7,
   "id": "682cf742",
   "metadata": {},
   "outputs": [],
   "source": [
    "from sklearn.tree import DecisionTreeClassifier\n",
    "from sklearn.metrics import classification_report\n",
    "from sklearn.model_selection import GridSearchCV\n",
    "\n",
    "def build_model(sampler):\n",
    "    \n",
    "    X_train, y_train = train.iloc[:,:-1], train.iloc[:,-1]\n",
    "    X_test, y_test = test.iloc[:,:-1], test.iloc[:,-1]\n",
    "    \n",
    "    print('Pre Sampling Class Counts', y_train.value_counts(), '--' * 30, sep='\\n')\n",
    "    \n",
    "    dt = DecisionTreeClassifier(random_state=10)\n",
    "    \n",
    "    if sampler==None:\n",
    "        pass\n",
    "    else:\n",
    "        X_train, y_train = sampler.fit_resample(X_train, y_train)\n",
    "        \n",
    "    dt.fit(X_train, y_train)\n",
    "    \n",
    "    print('Post Sampling Class Counts', y_train.value_counts(), '--' * 30, sep='\\n')\n",
    "    \n",
    "    y_pred = dt.predict(X_test)\n",
    "    print('Pre Optimization Metrics', classification_report(y_test, y_pred), '--' * 60, sep='\\n')\n",
    "    \n",
    "    grid_param = {\n",
    "                'criterion': ['gini', 'entropy'],\n",
    "                'max_depth' : range(3, 22, 3),\n",
    "                'min_samples_leaf' : range(80, 121, 10),\n",
    "                'min_samples_split': range(100, 301, 50),\n",
    "                'splitter' : ['best', 'random']\n",
    "                }                \n",
    "    \n",
    "    dt = DecisionTreeClassifier(random_state=10)\n",
    "    grid_search = GridSearchCV(estimator=dt, param_grid=grid_param, scoring='recall', cv=5, n_jobs=-1, verbose=1)\n",
    "    grid_search.fit(X_train, y_train)\n",
    "    print(grid_search.best_params_, '--' * 58, sep='\\n')\n",
    "    \n",
    "    dt_optimized = grid_search.best_estimator_\n",
    "    dt_optimized.fit(X_train, y_train)\n",
    "    y_pred = dt_optimized.predict(X_test)\n",
    "    print('Post Optimization Metrics', classification_report(y_test, y_pred), '--' * 60, sep='\\n')   \n"
   ]
  },
  {
   "cell_type": "markdown",
   "id": "0bbcba5e",
   "metadata": {},
   "source": [
    "## Building the decision tree model for best recall, pre and post hyper parameter optimization."
   ]
  },
  {
   "cell_type": "code",
   "execution_count": 8,
   "id": "ee52fa82",
   "metadata": {},
   "outputs": [
    {
     "name": "stdout",
     "output_type": "stream",
     "text": [
      "Pre Sampling Class Counts\n",
      "0    7670\n",
      "1    2283\n",
      "Name: RainTomorrow, dtype: int64\n",
      "------------------------------------------------------------\n",
      "Post Sampling Class Counts\n",
      "0    7670\n",
      "1    2283\n",
      "Name: RainTomorrow, dtype: int64\n",
      "------------------------------------------------------------\n",
      "Pre Optimization Metrics\n",
      "              precision    recall  f1-score   support\n",
      "\n",
      "           0       0.84      0.81      0.82      3308\n",
      "           1       0.41      0.45      0.43       958\n",
      "\n",
      "    accuracy                           0.73      4266\n",
      "   macro avg       0.62      0.63      0.63      4266\n",
      "weighted avg       0.74      0.73      0.74      4266\n",
      "\n",
      "------------------------------------------------------------------------------------------------------------------------\n",
      "Fitting 5 folds for each of 700 candidates, totalling 3500 fits\n",
      "{'criterion': 'gini', 'max_depth': 6, 'min_samples_leaf': 120, 'min_samples_split': 100, 'splitter': 'best'}\n",
      "--------------------------------------------------------------------------------------------------------------------\n",
      "Post Optimization Metrics\n",
      "              precision    recall  f1-score   support\n",
      "\n",
      "           0       0.85      0.94      0.89      3308\n",
      "           1       0.67      0.41      0.51       958\n",
      "\n",
      "    accuracy                           0.82      4266\n",
      "   macro avg       0.76      0.68      0.70      4266\n",
      "weighted avg       0.81      0.82      0.81      4266\n",
      "\n",
      "------------------------------------------------------------------------------------------------------------------------\n"
     ]
    }
   ],
   "source": [
    "build_model(None)"
   ]
  },
  {
   "cell_type": "code",
   "execution_count": 9,
   "id": "2fc8cdfc",
   "metadata": {},
   "outputs": [
    {
     "name": "stdout",
     "output_type": "stream",
     "text": [
      "Pre Sampling Class Counts\n",
      "0    7670\n",
      "1    2283\n",
      "Name: RainTomorrow, dtype: int64\n",
      "------------------------------------------------------------\n",
      "Post Sampling Class Counts\n",
      "0    7670\n",
      "1    7670\n",
      "Name: RainTomorrow, dtype: int64\n",
      "------------------------------------------------------------\n",
      "Pre Optimization Metrics\n",
      "              precision    recall  f1-score   support\n",
      "\n",
      "           0       0.84      0.79      0.81      3308\n",
      "           1       0.40      0.49      0.44       958\n",
      "\n",
      "    accuracy                           0.72      4266\n",
      "   macro avg       0.62      0.64      0.63      4266\n",
      "weighted avg       0.74      0.72      0.73      4266\n",
      "\n",
      "------------------------------------------------------------------------------------------------------------------------\n",
      "Fitting 5 folds for each of 700 candidates, totalling 3500 fits\n",
      "{'criterion': 'entropy', 'max_depth': 15, 'min_samples_leaf': 80, 'min_samples_split': 200, 'splitter': 'best'}\n",
      "--------------------------------------------------------------------------------------------------------------------\n",
      "Post Optimization Metrics\n",
      "              precision    recall  f1-score   support\n",
      "\n",
      "           0       0.90      0.71      0.79      3308\n",
      "           1       0.42      0.73      0.53       958\n",
      "\n",
      "    accuracy                           0.71      4266\n",
      "   macro avg       0.66      0.72      0.66      4266\n",
      "weighted avg       0.79      0.71      0.73      4266\n",
      "\n",
      "------------------------------------------------------------------------------------------------------------------------\n"
     ]
    }
   ],
   "source": [
    "from imblearn.over_sampling import SMOTE\n",
    "\n",
    "build_model(SMOTE(random_state=10))"
   ]
  },
  {
   "cell_type": "code",
   "execution_count": 10,
   "id": "d4d36d0a",
   "metadata": {
    "scrolled": true
   },
   "outputs": [
    {
     "name": "stdout",
     "output_type": "stream",
     "text": [
      "Pre Sampling Class Counts\n",
      "0    7670\n",
      "1    2283\n",
      "Name: RainTomorrow, dtype: int64\n",
      "------------------------------------------------------------\n",
      "Post Sampling Class Counts\n",
      "1    5570\n",
      "0    4360\n",
      "Name: RainTomorrow, dtype: int64\n",
      "------------------------------------------------------------\n",
      "Pre Optimization Metrics\n",
      "              precision    recall  f1-score   support\n",
      "\n",
      "           0       0.90      0.73      0.80      3308\n",
      "           1       0.43      0.71      0.53       958\n",
      "\n",
      "    accuracy                           0.72      4266\n",
      "   macro avg       0.66      0.72      0.67      4266\n",
      "weighted avg       0.79      0.72      0.74      4266\n",
      "\n",
      "------------------------------------------------------------------------------------------------------------------------\n",
      "Fitting 5 folds for each of 700 candidates, totalling 3500 fits\n",
      "{'criterion': 'gini', 'max_depth': 9, 'min_samples_leaf': 80, 'min_samples_split': 100, 'splitter': 'best'}\n",
      "--------------------------------------------------------------------------------------------------------------------\n",
      "Post Optimization Metrics\n",
      "              precision    recall  f1-score   support\n",
      "\n",
      "           0       0.92      0.66      0.77      3308\n",
      "           1       0.40      0.80      0.54       958\n",
      "\n",
      "    accuracy                           0.69      4266\n",
      "   macro avg       0.66      0.73      0.65      4266\n",
      "weighted avg       0.80      0.69      0.72      4266\n",
      "\n",
      "------------------------------------------------------------------------------------------------------------------------\n"
     ]
    }
   ],
   "source": [
    "from imblearn.combine import SMOTEENN\n",
    "\n",
    "build_model(SMOTEENN(random_state=10))"
   ]
  },
  {
   "cell_type": "code",
   "execution_count": 11,
   "id": "a98c0c32",
   "metadata": {
    "scrolled": true
   },
   "outputs": [
    {
     "name": "stdout",
     "output_type": "stream",
     "text": [
      "Pre Sampling Class Counts\n",
      "0    7670\n",
      "1    2283\n",
      "Name: RainTomorrow, dtype: int64\n",
      "------------------------------------------------------------\n",
      "Post Sampling Class Counts\n",
      "0    2283\n",
      "1    2283\n",
      "Name: RainTomorrow, dtype: int64\n",
      "------------------------------------------------------------\n",
      "Pre Optimization Metrics\n",
      "              precision    recall  f1-score   support\n",
      "\n",
      "           0       0.82      0.51      0.63      3308\n",
      "           1       0.27      0.62      0.38       958\n",
      "\n",
      "    accuracy                           0.54      4266\n",
      "   macro avg       0.55      0.57      0.50      4266\n",
      "weighted avg       0.70      0.54      0.57      4266\n",
      "\n",
      "------------------------------------------------------------------------------------------------------------------------\n",
      "Fitting 5 folds for each of 700 candidates, totalling 3500 fits\n",
      "{'criterion': 'gini', 'max_depth': 6, 'min_samples_leaf': 100, 'min_samples_split': 100, 'splitter': 'random'}\n",
      "--------------------------------------------------------------------------------------------------------------------\n",
      "Post Optimization Metrics\n",
      "              precision    recall  f1-score   support\n",
      "\n",
      "           0       0.87      0.85      0.86      3308\n",
      "           1       0.52      0.57      0.55       958\n",
      "\n",
      "    accuracy                           0.79      4266\n",
      "   macro avg       0.70      0.71      0.70      4266\n",
      "weighted avg       0.79      0.79      0.79      4266\n",
      "\n",
      "------------------------------------------------------------------------------------------------------------------------\n"
     ]
    }
   ],
   "source": [
    "from imblearn.under_sampling import NearMiss\n",
    "\n",
    "build_model(NearMiss())"
   ]
  },
  {
   "cell_type": "markdown",
   "id": "a628bf52",
   "metadata": {},
   "source": [
    "## Results\n",
    "* Best Sampling Technique: SMOTEENN\n",
    "* Recall (class = 1) for plain decision tree: 0.71\n",
    "* Recall (class = 1) for optimized decision tree: 0.80"
   ]
  },
  {
   "cell_type": "code",
   "execution_count": null,
   "id": "0ffe255a",
   "metadata": {},
   "outputs": [],
   "source": []
  }
 ],
 "metadata": {
  "kernelspec": {
   "display_name": "Python 3 (ipykernel)",
   "language": "python",
   "name": "python3"
  },
  "language_info": {
   "codemirror_mode": {
    "name": "ipython",
    "version": 3
   },
   "file_extension": ".py",
   "mimetype": "text/x-python",
   "name": "python",
   "nbconvert_exporter": "python",
   "pygments_lexer": "ipython3",
   "version": "3.8.11"
  }
 },
 "nbformat": 4,
 "nbformat_minor": 5
}
